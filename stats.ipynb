{
 "cells": [
  {
   "cell_type": "code",
   "execution_count": null,
   "metadata": {},
   "outputs": [
    {
     "data": {
      "text/plain": [
       "{'event': \"Estimated Probability of Winning teamACN2['D4', 'SA']: 0.8\",\n",
       " 'timestamp': '2024-01-21T12:47:11.023197Z'}"
      ]
     },
     "execution_count": 8,
     "metadata": {},
     "output_type": "execute_result"
    }
   ],
   "source": [
    "import json\n",
    "\n",
    "file_path = (\n",
    "    \"logs/output_20240122_113551.log\"  # Replace with the actual path to your file\n",
    ")\n",
    "log_data = []\n",
    "# Read the file and parse JSON data\n",
    "with open(file_path, \"r\") as file:\n",
    "    for line in file:\n",
    "        # Parse each line as JSON\n",
    "        log_data.append(json.loads(line))\n",
    "\n",
    "log_data[0]"
   ]
  },
  {
   "cell_type": "code",
   "execution_count": 9,
   "metadata": {},
   "outputs": [
    {
     "data": {
      "text/plain": [
       "{'Round': '1',\n",
       " 'team': 'teamACN2',\n",
       " 'valid_actions': [{'action': 'fold', 'amount': 0},\n",
       "  {'action': 'call', 'amount': 20},\n",
       "  {'action': 'raise', 'amount': {'min': 30, 'max': 10000}}],\n",
       " 'hole_card': ['D4', 'SA'],\n",
       " 'round_state': {'street': 'preflop',\n",
       "  'pot': {'main': {'amount': 30}, 'side': []},\n",
       "  'community_card': [],\n",
       "  'dealer_btn': 0,\n",
       "  'next_player': 1,\n",
       "  'small_blind_pos': 1,\n",
       "  'big_blind_pos': 0,\n",
       "  'round_count': 1,\n",
       "  'small_blind_amount': 10,\n",
       "  'seats': [{'name': 'player_teamACN',\n",
       "    'uuid': '0',\n",
       "    'stack': 9980,\n",
       "    'state': 'participating'},\n",
       "   {'name': 'player_teamACN2',\n",
       "    'uuid': '1',\n",
       "    'stack': 9990,\n",
       "    'state': 'participating'}],\n",
       "  'action_histories': {'preflop': [{'action': 'SMALLBLIND',\n",
       "     'amount': 10,\n",
       "     'add_amount': 10,\n",
       "     'uuid': '1'},\n",
       "    {'action': 'BIGBLIND', 'amount': 20, 'add_amount': 10, 'uuid': '0'}]}},\n",
       " 'action_info': 'raise',\n",
       " 'amount_played': 3000.0,\n",
       " 'event': 'teamACN2',\n",
       " 'timestamp': '2024-01-21T12:47:11.023441Z'}"
      ]
     },
     "execution_count": 9,
     "metadata": {},
     "output_type": "execute_result"
    }
   ],
   "source": [
    "# Filter for data where 'Round' is '1'\n",
    "round_1_data = [\n",
    "    entry for entry in log_data if \"Round\" in entry and entry[\"Round\"] == \"1\"\n",
    "]\n",
    "round_1_data[0]"
   ]
  },
  {
   "cell_type": "code",
   "execution_count": null,
   "metadata": {},
   "outputs": [],
   "source": []
  }
 ],
 "metadata": {
  "kernelspec": {
   "display_name": "pypokergui-server-7hH767Nw-py3.11",
   "language": "python",
   "name": "python3"
  },
  "language_info": {
   "codemirror_mode": {
    "name": "ipython",
    "version": 3
   },
   "file_extension": ".py",
   "mimetype": "text/x-python",
   "name": "python",
   "nbconvert_exporter": "python",
   "pygments_lexer": "ipython3",
   "version": "3.11.7"
  }
 },
 "nbformat": 4,
 "nbformat_minor": 2
}
